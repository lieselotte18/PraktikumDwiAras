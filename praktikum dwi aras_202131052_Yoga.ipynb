{
 "cells": [
  {
   "cell_type": "markdown",
   "id": "b0cb6104",
   "metadata": {},
   "source": [
    "## Import Library"
   ]
  },
  {
   "cell_type": "code",
   "execution_count": 1,
   "id": "72501ec3",
   "metadata": {},
   "outputs": [],
   "source": [
    "import cv2 as cv\n",
    "import numpy as np\n",
    "from matplotlib import pyplot as plt"
   ]
  },
  {
   "cell_type": "code",
   "execution_count": 2,
   "id": "c95134e7",
   "metadata": {},
   "outputs": [],
   "source": [
    "daun = cv.imread('Daun.png',0)\n",
    "tinggi, lebar = daun.shape"
   ]
  },
  {
   "cell_type": "code",
   "execution_count": null,
   "id": "f7ef6bd8",
   "metadata": {},
   "outputs": [],
   "source": [
    "cv.imshow(\"Citra Asli\", daun)\n",
    "cv.waitKey(0)\n",
    "cv.destroyAllWindows()"
   ]
  },
  {
   "cell_type": "markdown",
   "id": "6f8b8fec",
   "metadata": {},
   "source": [
    "## Pengembangan Dwi Aras dengan Perkiraan Nilai Ambang"
   ]
  },
  {
   "cell_type": "code",
   "execution_count": 3,
   "id": "4b1a6438",
   "metadata": {},
   "outputs": [],
   "source": [
    "nilai_ambang = 128\n",
    "daun_hasil = daun.copy()\n",
    "for x in range (tinggi):\n",
    "    for y in range(lebar):\n",
    "        if daun[x,y] < nilai_ambang :\n",
    "            daun_hasil[x,y] = 0\n",
    "        else:\n",
    "            daun_hasil[x,y] = 225"
   ]
  },
  {
   "cell_type": "code",
   "execution_count": null,
   "id": "744c70a8",
   "metadata": {},
   "outputs": [],
   "source": [
    "cv.imshow(\"Aras Daun\", daun_hasil)\n",
    "cv.waitKey(0)\n",
    "cv.destroyAllWindows()"
   ]
  },
  {
   "cell_type": "markdown",
   "id": "7fb1068a",
   "metadata": {},
   "source": [
    "## Menentukan nilai ambang suatu citra"
   ]
  },
  {
   "cell_type": "code",
   "execution_count": 4,
   "id": "93eeeb57",
   "metadata": {},
   "outputs": [],
   "source": [
    "def titeratif(image):\n",
    "    tinggi, lebar = image.shape\n",
    "    t0 = 127\n",
    "    while(True):\n",
    "        rata_kiri = 0;\n",
    "        rata_kanan = 0;\n",
    "        jum_kiri = 0;\n",
    "        jum_kanan = 0;\n",
    "        for x in range(tinggi):\n",
    "            for y in range(lebar):\n",
    "                if(image[x,y] <= 127):\n",
    "                    rate_kiri = rata_kiri + image[x,y]\n",
    "                    jum_kiri = jum_kiri + 1\n",
    "                else:\n",
    "                    rata_kanan = rata_kanan + image[x,y]\n",
    "                    jum_kanan = jum_kanan + 1\n",
    "                    \n",
    "        rata_kiri = rata_kiri / jum_kiri\n",
    "        rata_kanan = rata_kanan / jum_kanan\n",
    "        t1 = (rata_kiri + rata_kanan) / 2\n",
    "        if ((t0 - t1)< 1):\n",
    "            break\n",
    "        t0 = t1\n",
    "    return round(t1)"
   ]
  },
  {
   "cell_type": "code",
   "execution_count": 5,
   "id": "28817ea9",
   "metadata": {},
   "outputs": [
    {
     "data": {
      "text/plain": [
       "91"
      ]
     },
     "execution_count": 5,
     "metadata": {},
     "output_type": "execute_result"
    }
   ],
   "source": [
    "titeratif(daun)"
   ]
  },
  {
   "cell_type": "markdown",
   "id": "5c64cc5d",
   "metadata": {},
   "source": [
    "## Aras Jamak"
   ]
  },
  {
   "cell_type": "code",
   "execution_count": 6,
   "id": "c57a2fb8",
   "metadata": {},
   "outputs": [],
   "source": [
    "bentuk = cv.imread('arasjamak.png', 0)\n",
    "tinggi, lebar = bentuk.shape"
   ]
  },
  {
   "cell_type": "code",
   "execution_count": 7,
   "id": "b4d73ac7",
   "metadata": {},
   "outputs": [],
   "source": [
    "def arasjamak(image, t1, t2):\n",
    "    res = image\n",
    "    m,n = image.shape\n",
    "    for x in range(m):\n",
    "        for y in range(n):  \n",
    "            if (image[x,y] <= t1) or (image[x,y] >= t2):\n",
    "                res[x,y] = 0\n",
    "            else:\n",
    "                res[x,y] = 255\n",
    "    return res"
   ]
  },
  {
   "cell_type": "code",
   "execution_count": 8,
   "id": "3d4b310d",
   "metadata": {},
   "outputs": [],
   "source": [
    "bentukArasJamak = arasjamak(bentuk, 185, 200)"
   ]
  },
  {
   "cell_type": "code",
   "execution_count": null,
   "id": "d3123ca9",
   "metadata": {},
   "outputs": [],
   "source": [
    "cv.imshow('Gamabar Aras Jamak', bentukArasJamak)\n",
    "cv.waitKey(0)\n",
    "cv.destroyAllWindows()"
   ]
  },
  {
   "cell_type": "markdown",
   "id": "5911ef58",
   "metadata": {},
   "source": [
    "## 202131052_Yoga Aria Kusuma"
   ]
  },
  {
   "cell_type": "code",
   "execution_count": null,
   "id": "7d44a613",
   "metadata": {},
   "outputs": [],
   "source": []
  }
 ],
 "metadata": {
  "kernelspec": {
   "display_name": "Python 3 (ipykernel)",
   "language": "python",
   "name": "python3"
  },
  "language_info": {
   "codemirror_mode": {
    "name": "ipython",
    "version": 3
   },
   "file_extension": ".py",
   "mimetype": "text/x-python",
   "name": "python",
   "nbconvert_exporter": "python",
   "pygments_lexer": "ipython3",
   "version": "3.10.9"
  }
 },
 "nbformat": 4,
 "nbformat_minor": 5
}
